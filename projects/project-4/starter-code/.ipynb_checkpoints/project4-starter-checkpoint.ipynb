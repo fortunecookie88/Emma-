{
 "cells": [
  {
   "cell_type": "markdown",
   "metadata": {},
   "source": [
    "# Project 4\n",
    "\n",
    "In this project, you will summarize and present your analysis from Projects 1-3."
   ]
  },
  {
   "cell_type": "markdown",
   "metadata": {},
   "source": [
    "### Intro: Write a problem Statement/ Specific Aim for this project"
   ]
  },
  {
   "cell_type": "markdown",
   "metadata": {},
   "source": [
    "Answer: Using the admission data, determine how likely a student to be admited into graduate school, based on their gre, gpa, the prestige of there undergraduate institution. \n"
   ]
  },
  {
   "cell_type": "markdown",
   "metadata": {},
   "source": [
    "### Dataset:  Write up a description of your data and any cleaning that was completed"
   ]
  },
  {
   "cell_type": "markdown",
   "metadata": {},
   "source": [
    "Answer:  There were 400 observations in our dataset. 2 missing values for gre and gpa and 1 missing value for prestige that were dropped from this analysis. The final analytic sample was 497. \n",
    "\n",
    "Admit is the outcome variable, which is whether student admitted into grad school. It's categorical verable, 0 means not admitted, 1 means admitted. The prestige, gre, gpa are predictors. GRE score is continous variable, ranging from 200-800. GPA score is continuous variable raning from 0-4.  Presitge is the categorical variable,which is the undergrad school tier. \n",
    "1 means not prestigious; 2 means low prestige; 3 means good prestige; 4 means high prestige."
   ]
  },
  {
   "cell_type": "markdown",
   "metadata": {
    "collapsed": true
   },
   "source": [
    "### Demo: Provide a table that explains the data by admission status"
   ]
  },
  {
   "cell_type": "markdown",
   "metadata": {},
   "source": [
    "Variable | Description | Type of Variable\n",
    "---| ---| ---\n",
    "Admit| 0 = not admitted 1 = admitted | categorical\n",
    "GRE | GRE score 200-800 | continuous \n",
    "GPA | GPA 0-4.0 | continuous\n",
    "Prestige | 1= not prestigious 2 = low prestige 3= good prestige 4= high prestige | categorical\n",
    "\n",
    "Mean (STD) or counts for 2 of the 4 variables\n",
    "\n",
    "Variable | Mean (STD) \n",
    "---| ---\n",
    "admit | 0.317380 (0.466044)\n",
    "gre | 587.858942 (115.717787)\n",
    "gpa | 3.392242  (0.380208)\n",
    "prestige | 2.488665 (0.947083)"
   ]
  },
  {
   "cell_type": "markdown",
   "metadata": {},
   "source": [
    "### Methods: Write up the methods used in your analysis"
   ]
  },
  {
   "cell_type": "markdown",
   "metadata": {},
   "source": [
    "Answer: We completed a logistic regression using Statsmodels.  We calculated the probability of a student admitted to grad school given their gre, gpa, and prestige of their undergrads. For the categorical variable presige, I set up dummies variables and use 3 in the regression. "
   ]
  },
  {
   "cell_type": "markdown",
   "metadata": {},
   "source": [
    "### Results: Write up your results"
   ]
  },
  {
   "cell_type": "markdown",
   "metadata": {},
   "source": [
    "Answer: Students with high GPA and GRE are more likely to be admitted into graduate school. Student went to tier 1 undergra2,3,4 tiers are less likely to be admitted into graduate school. \n",
    "Students who went to tier 2 undergrad had 0.50 the odds of being admitted to graduate school compared to students who went to tier 1 undergrad school.\n"
   ]
  },
  {
   "cell_type": "markdown",
   "metadata": {},
   "source": [
    "### Visuals: Provide a table or visualization of these results"
   ]
  },
  {
   "cell_type": "markdown",
   "metadata": {},
   "source": [
    "<img src='data.png' height= 25% width= 25%>"
   ]
  },
  {
   "cell_type": "code",
   "execution_count": null,
   "metadata": {
    "collapsed": true
   },
   "outputs": [],
   "source": [
    "<img src='data_2.png' height= 25% width= 25%>"
   ]
  },
  {
   "cell_type": "markdown",
   "metadata": {},
   "source": [
    "### Discussion: Write up your discussion and future steps"
   ]
  },
  {
   "cell_type": "markdown",
   "metadata": {},
   "source": [
    "Answer: Our findings indicate that students have a higher probability of returning if they are graduate from tier 1 undergrad and with high gpa and gre. Next steps could include some other variables such as gender, age to make the model better."
   ]
  },
  {
   "cell_type": "code",
   "execution_count": null,
   "metadata": {
    "collapsed": true
   },
   "outputs": [],
   "source": []
  }
 ],
 "metadata": {
  "kernelspec": {
   "display_name": "Python 2",
   "language": "python",
   "name": "python2"
  },
  "language_info": {
   "codemirror_mode": {
    "name": "ipython",
    "version": 2
   },
   "file_extension": ".py",
   "mimetype": "text/x-python",
   "name": "python",
   "nbconvert_exporter": "python",
   "pygments_lexer": "ipython2",
   "version": "2.7.13"
  }
 },
 "nbformat": 4,
 "nbformat_minor": 1
}
